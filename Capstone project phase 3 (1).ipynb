{
 "cells": [
  {
   "cell_type": "markdown",
   "id": "6774a2ac",
   "metadata": {},
   "source": [
    "Below are SQL Queries:"
   ]
  },
  {
   "cell_type": "code",
   "execution_count": null,
   "id": "c06bb6bb",
   "metadata": {},
   "outputs": [],
   "source": [
    "show databases;\n",
    "use mydb;\n",
    "CREATE TABLE statewise_crime (\n",
    "    crime_id INT PRIMARY KEY AUTO_INCREMENT,\n",
    "    state VARCHAR(255) NOT NULL,\n",
    "    year INT NOT NULL,\n",
    "    crime_type_id INT,\n",
    "    crime_count INT,\n",
    "    FOREIGN KEY (crime_type_id) REFERENCES crime_type(crime_type_id)\n",
    ");\n",
    "\n",
    "show tables;\n",
    "select*from statewise_crime;\n"
   ]
  }
 ],
 "metadata": {
  "kernelspec": {
   "display_name": "Python 3 (ipykernel)",
   "language": "python",
   "name": "python3"
  },
  "language_info": {
   "codemirror_mode": {
    "name": "ipython",
    "version": 3
   },
   "file_extension": ".py",
   "mimetype": "text/x-python",
   "name": "python",
   "nbconvert_exporter": "python",
   "pygments_lexer": "ipython3",
   "version": "3.9.13"
  }
 },
 "nbformat": 4,
 "nbformat_minor": 5
}
